{
 "cells": [
  {
   "cell_type": "markdown",
   "id": "cfc33fee",
   "metadata": {},
   "source": [
    "# Breast Cancer Classification using ML Models\n",
    "\n",
    "This notebook compares three classification algorithms — Logistic Regression, k-Nearest Neighbors (k-NN), and Decision Tree — on the Breast Cancer Wisconsin dataset. The aim is to evaluate the models based on accuracy, precision, recall, and F1-score using `scikit-learn`.\n"
   ]
  },
  {
   "cell_type": "code",
   "execution_count": null,
   "id": "3a6c26a6",
   "metadata": {},
   "outputs": [],
   "source": [
    "import pandas as pd\n",
    "import numpy as np\n",
    "import seaborn as sns\n",
    "import matplotlib.pyplot as plt\n",
    "\n",
    "from sklearn.datasets import load_breast_cancer\n",
    "from sklearn.model_selection import train_test_split\n",
    "from sklearn.preprocessing import StandardScaler\n",
    "from sklearn.linear_model import LogisticRegression\n",
    "from sklearn.neighbors import KNeighborsClassifier\n",
    "from sklearn.tree import DecisionTreeClassifier\n",
    "from sklearn.metrics import classification_report, confusion_matrix\n"
   ]
  },
  {
   "cell_type": "code",
   "execution_count": null,
   "id": "ac8ef7b5",
   "metadata": {},
   "outputs": [],
   "source": [
    "# Load the Breast Cancer dataset\n",
    "data = load_breast_cancer()\n",
    "X = data.data\n",
    "y = data.target\n",
    "\n",
    "# Create DataFrame for exploration\n",
    "df = pd.DataFrame(X, columns=data.feature_names)\n",
    "df['target'] = y\n",
    "df.head()\n"
   ]
  },
  {
   "cell_type": "code",
   "execution_count": null,
   "id": "de3cf17f",
   "metadata": {},
   "outputs": [],
   "source": [
    "# Split and scale\n",
    "X_train, X_test, y_train, y_test = train_test_split(X, y, test_size=0.2, random_state=42)\n",
    "\n",
    "scaler = StandardScaler()\n",
    "X_train_scaled = scaler.fit_transform(X_train)\n",
    "X_test_scaled = scaler.transform(X_test)\n"
   ]
  },
  {
   "cell_type": "code",
   "execution_count": null,
   "id": "1b9fda69",
   "metadata": {},
   "outputs": [],
   "source": [
    "# Initialize and train models\n",
    "log_reg = LogisticRegression(max_iter=10000).fit(X_train_scaled, y_train)\n",
    "knn = KNeighborsClassifier(n_neighbors=5).fit(X_train_scaled, y_train)\n",
    "dtree = DecisionTreeClassifier(random_state=42).fit(X_train, y_train)\n"
   ]
  },
  {
   "cell_type": "code",
   "execution_count": null,
   "id": "857d0bc0",
   "metadata": {},
   "outputs": [],
   "source": [
    "# Predictions\n",
    "y_pred_log_reg = log_reg.predict(X_test_scaled)\n",
    "y_pred_knn = knn.predict(X_test_scaled)\n",
    "y_pred_dtree = dtree.predict(X_test)\n",
    "\n",
    "# Classification Reports\n",
    "print(\"Logistic Regression:\\n\", classification_report(y_test, y_pred_log_reg))\n",
    "print(\"k-NN:\\n\", classification_report(y_test, y_pred_knn))\n",
    "print(\"Decision Tree:\\n\", classification_report(y_test, y_pred_dtree))\n"
   ]
  },
  {
   "cell_type": "code",
   "execution_count": null,
   "id": "6a0907f5",
   "metadata": {},
   "outputs": [],
   "source": [
    "# Plot confusion matrices\n",
    "def plot_cm(cm, title):\n",
    "    sns.heatmap(cm, annot=True, fmt='d', cmap='Blues',\n",
    "                xticklabels=data.target_names,\n",
    "                yticklabels=data.target_names)\n",
    "    plt.xlabel('Predicted')\n",
    "    plt.ylabel('Actual')\n",
    "    plt.title(title)\n",
    "    plt.show()\n",
    "\n",
    "plot_cm(confusion_matrix(y_test, y_pred_log_reg), \"Confusion Matrix: Logistic Regression\")\n",
    "plot_cm(confusion_matrix(y_test, y_pred_knn), \"Confusion Matrix: k-NN\")\n",
    "plot_cm(confusion_matrix(y_test, y_pred_dtree), \"Confusion Matrix: Decision Tree\")\n"
   ]
  }
 ],
 "metadata": {},
 "nbformat": 4,
 "nbformat_minor": 5
}